{
  "cells": [
    {
      "cell_type": "markdown",
      "metadata": {
        "id": "view-in-github",
        "colab_type": "text"
      },
      "source": [
        "<a href=\"https://colab.research.google.com/github/Naduni366/Deep-Learning-Mini-Project-03/blob/main/DL3.ipynb\" target=\"_parent\"><img src=\"https://colab.research.google.com/assets/colab-badge.svg\" alt=\"Open In Colab\"/></a>"
      ]
    },
    {
      "cell_type": "code",
      "execution_count": null,
      "metadata": {
        "id": "mQt40xZVyfPN"
      },
      "outputs": [],
      "source": [
        "import random\n",
        "import tensorflow as tf\n",
        "import string\n",
        "import re\n",
        "from tensorflow import keras\n",
        "from tensorflow.keras import layers\n",
        "import numpy as np\n",
        "import pandas as pd\n",
        "from sklearn.model_selection import train_test_split\n",
        "from keras.preprocessing.text import Tokenizer\n",
        "from keras.preprocessing.sequence import pad_sequences\n",
        "from keras.models import Model\n",
        "from keras.layers import Input, Embedding, Dense, Masking\n",
        "from keras.layers import Attention, LayerNormalization, Dropout\n",
        "from keras.optimizers import Adam\n"
      ]
    },
    {
      "cell_type": "code",
      "execution_count": null,
      "metadata": {
        "colab": {
          "base_uri": "https://localhost:8080/"
        },
        "id": "VB3MVTQ89kQo",
        "outputId": "5c364fca-8659-457c-b09c-94c3b3a56d5b"
      },
      "outputs": [
        {
          "output_type": "stream",
          "name": "stdout",
          "text": [
            "Mounted at /content/drive\n"
          ]
        }
      ],
      "source": [
        "from google.colab import drive\n",
        "df = drive.mount('/content/drive')\n"
      ]
    },
    {
      "cell_type": "code",
      "execution_count": null,
      "metadata": {
        "id": "6Kg3nlHUPLdC",
        "colab": {
          "base_uri": "https://localhost:8080/"
        },
        "outputId": "d6fc7c0c-2fd2-40f1-f73f-365f5a429b24"
      },
      "outputs": [
        {
          "output_type": "stream",
          "name": "stdout",
          "text": [
            "/content/drive/My Drive/dl3\n"
          ]
        }
      ],
      "source": [
        "import os\n",
        "\n",
        "os.chdir(\"/content/drive/My Drive/dl3/\")\n",
        "print(os.getcwd())\n",
        "\n",
        "\n"
      ]
    },
    {
      "cell_type": "code",
      "execution_count": null,
      "metadata": {
        "colab": {
          "base_uri": "https://localhost:8080/"
        },
        "id": "pqqtnRSBOeVH",
        "outputId": "b1619ffd-14b9-4b94-fe0d-612c25f1f658"
      },
      "outputs": [
        {
          "output_type": "stream",
          "name": "stdout",
          "text": [
            "Dataset 1:\n",
            "['Then what do I have to take out, key, bucket or well.\\n', 'Keys. - Yes\\n', 'In the manor. - Yes.\\n', 'Right now. - Yes.\\n', 'In this darkness.\\n']\n",
            "Dataset 2:\n",
            "['එතකොට මට මොනවාද එලියට ගන්න තියෙන්නේ? යතුරද, පනිට්ටුවද, වෙලද?  \\n', 'යතුරු -  ඔව්\\n', 'මාලිගාවෙ? - ඔව් \\n', 'මේ දැන් - ඔව් \\n', 'මේ අඳුරේ?\\n']\n"
          ]
        }
      ],
      "source": [
        "file1_path = '/content/drive/My Drive/dl3/training_data_src.txt'\n",
        "file2_path = '/content/drive/My Drive/dl3/training_data_tgt.txt'\n",
        "\n",
        "# Read the contents of the text files\n",
        "with open(file1_path, 'r', encoding='utf-8') as file:\n",
        "    training_data_src = file.readlines()\n",
        "\n",
        "with open(file2_path, 'r', encoding='utf-8') as file:\n",
        "    training_data_tgt = file.readlines()\n",
        "\n",
        "# Optionally, you can print the first few lines of each dataset to verify the contents\n",
        "print(\"Dataset 1:\")\n",
        "print(training_data_src[:5])  # Print the first 5 lines\n",
        "print(\"Dataset 2:\")\n",
        "print(training_data_tgt[:5])  # Print the first 5 lines"
      ]
    },
    {
      "cell_type": "code",
      "execution_count": null,
      "metadata": {
        "colab": {
          "base_uri": "https://localhost:8080/"
        },
        "id": "VeOh7CMPSgsb",
        "outputId": "aa4c291c-76a4-4cef-e5a5-decf776a67ca"
      },
      "outputs": [
        {
          "output_type": "stream",
          "name": "stdout",
          "text": [
            "Epoch 1/20\n",
            "1/1 [==============================] - 13s 13s/step - loss: 4.7539 - val_loss: 4.7533\n",
            "Epoch 2/20\n",
            "1/1 [==============================] - 0s 157ms/step - loss: 4.7388 - val_loss: 4.7513\n",
            "Epoch 3/20\n",
            "1/1 [==============================] - 0s 167ms/step - loss: 4.7232 - val_loss: 4.7491\n",
            "Epoch 4/20\n",
            "1/1 [==============================] - 0s 156ms/step - loss: 4.7063 - val_loss: 4.7466\n",
            "Epoch 5/20\n",
            "1/1 [==============================] - 0s 147ms/step - loss: 4.6871 - val_loss: 4.7436\n",
            "Epoch 6/20\n",
            "1/1 [==============================] - 0s 154ms/step - loss: 4.6646 - val_loss: 4.7398\n",
            "Epoch 7/20\n",
            "1/1 [==============================] - 0s 150ms/step - loss: 4.6368 - val_loss: 4.7349\n",
            "Epoch 8/20\n",
            "1/1 [==============================] - 0s 158ms/step - loss: 4.6010 - val_loss: 4.7281\n",
            "Epoch 9/20\n",
            "1/1 [==============================] - 0s 154ms/step - loss: 4.5517 - val_loss: 4.7176\n",
            "Epoch 10/20\n",
            "1/1 [==============================] - 0s 168ms/step - loss: 4.4789 - val_loss: 4.7004\n",
            "Epoch 11/20\n",
            "1/1 [==============================] - 0s 151ms/step - loss: 4.3661 - val_loss: 4.7076\n",
            "Epoch 12/20\n",
            "1/1 [==============================] - 0s 305ms/step - loss: 4.2351 - val_loss: 5.0611\n",
            "Epoch 13/20\n",
            "1/1 [==============================] - 0s 216ms/step - loss: 4.2281 - val_loss: 5.1619\n",
            "Epoch 14/20\n",
            "1/1 [==============================] - 0s 156ms/step - loss: 4.1526 - val_loss: 5.0574\n",
            "Epoch 15/20\n",
            "1/1 [==============================] - 0s 167ms/step - loss: 4.0366 - val_loss: 4.9450\n",
            "Epoch 16/20\n",
            "1/1 [==============================] - 0s 148ms/step - loss: 3.9611 - val_loss: 4.9025\n",
            "Epoch 17/20\n",
            "1/1 [==============================] - 0s 331ms/step - loss: 3.9218 - val_loss: 4.9221\n",
            "Epoch 18/20\n",
            "1/1 [==============================] - 0s 153ms/step - loss: 3.8806 - val_loss: 4.9921\n",
            "Epoch 19/20\n",
            "1/1 [==============================] - 0s 151ms/step - loss: 3.8260 - val_loss: 5.1082\n",
            "Epoch 20/20\n",
            "1/1 [==============================] - 0s 172ms/step - loss: 3.7665 - val_loss: 5.2539\n"
          ]
        }
      ],
      "source": [
        "import tensorflow as tf\n",
        "from tensorflow.keras.preprocessing.text import Tokenizer\n",
        "from tensorflow.keras.preprocessing.sequence import pad_sequences\n",
        "\n",
        "# Tokenize the source sequences\n",
        "src_tokenizer = Tokenizer(filters='')\n",
        "src_tokenizer.fit_on_texts(training_data_src)\n",
        "src_vocab_size = len(src_tokenizer.word_index) + 1\n",
        "src_max_length = max([len(sequence.split()) for sequence in training_data_src])\n",
        "\n",
        "# Tokenize the target sequences\n",
        "tgt_tokenizer = Tokenizer(filters='')\n",
        "tgt_tokenizer.fit_on_texts(training_data_tgt)\n",
        "tgt_vocab_size = len(tgt_tokenizer.word_index) + 1\n",
        "tgt_max_length = max([len(sequence.split()) for sequence in training_data_tgt])\n",
        "\n",
        "# Prepare training data\n",
        "encoder_input_data = src_tokenizer.texts_to_sequences(training_data_src)\n",
        "decoder_input_data = tgt_tokenizer.texts_to_sequences(training_data_tgt)\n",
        "decoder_target_data = [[token for token in sequence[1:]] + [0] for sequence in decoder_input_data]\n",
        "\n",
        "encoder_input_data = pad_sequences(encoder_input_data, maxlen=src_max_length, padding='post')\n",
        "decoder_input_data = pad_sequences(decoder_input_data, maxlen=tgt_max_length, padding='post')\n",
        "decoder_target_data = pad_sequences(decoder_target_data, maxlen=tgt_max_length, padding='post')\n",
        "\n",
        "# Define the model architecture\n",
        "latent_dim = 256\n",
        "\n",
        "encoder_inputs = tf.keras.layers.Input(shape=(src_max_length,))\n",
        "encoder_embedding = tf.keras.layers.Embedding(src_vocab_size, latent_dim, mask_zero=True)(encoder_inputs)\n",
        "encoder_outputs, state_h, state_c = tf.keras.layers.LSTM(latent_dim, return_state=True)(encoder_embedding)\n",
        "encoder_states = [state_h, state_c]\n",
        "\n",
        "decoder_inputs = tf.keras.layers.Input(shape=(tgt_max_length,))\n",
        "decoder_embedding = tf.keras.layers.Embedding(tgt_vocab_size, latent_dim, mask_zero=True)(decoder_inputs)\n",
        "decoder_lstm = tf.keras.layers.LSTM(latent_dim, return_sequences=True, return_state=True)\n",
        "decoder_outputs, _, _ = decoder_lstm(decoder_embedding, initial_state=encoder_states)\n",
        "decoder_dense = tf.keras.layers.Dense(tgt_vocab_size, activation='softmax')\n",
        "decoder_outputs = decoder_dense(decoder_outputs)\n",
        "\n",
        "# Compile the model\n",
        "model = tf.keras.models.Model([encoder_inputs, decoder_inputs], decoder_outputs)\n",
        "model.compile(optimizer='adam', loss='sparse_categorical_crossentropy')\n",
        "\n",
        "# Train the model\n",
        "model.fit([encoder_input_data, decoder_input_data], decoder_target_data,\n",
        "          batch_size=64,\n",
        "          epochs=20,\n",
        "          validation_split=0.2)\n",
        "\n",
        "# Save the model\n",
        "model.save('/content/drive/My Drive/dl3/translator_model')\n"
      ]
    },
    {
      "cell_type": "code",
      "source": [
        "# Inference Models\n",
        "encoder_model = Model(encoder_inputs, encoder_states)\n",
        "\n",
        "decoder_state_input_h = Input(shape=(latent_dim,))\n",
        "decoder_state_input_c = Input(shape=(latent_dim,))\n",
        "decoder_states_inputs = [decoder_state_input_h, decoder_state_input_c]\n",
        "decoder_embedding_inf = decoder_embedding(decoder_inputs)\n",
        "\n",
        "decoder_outputs_inf, state_h_inf, state_c_inf = decoder_lstm(\n",
        "    decoder_embedding_inf, initial_state=decoder_states_inputs)\n",
        "decoder_states_inf = [state_h_inf, state_c_inf]\n",
        "decoder_outputs_inf = decoder_dense(decoder_outputs_inf)\n",
        "\n",
        "decoder_model = Model(\n",
        "    [decoder_inputs] + decoder_states_inputs,\n",
        "    [decoder_outputs_inf] + decoder_states_inf)\n",
        "\n",
        "# Translation Function\n",
        "def translate_sentence(input_sentence):\n",
        "    input_sequence = pad_sequences(src_tokenizer.texts_to_sequences([input_sentence]), maxlen=src_max_length, padding='post')\n",
        "    states_value = encoder_model.predict(input_sequence)\n",
        "    target_seq = np.zeros((1, 1))\n",
        "    target_seq[0, 0] = tgt_tokenizer.word_index['<start>']  # Assuming '<start>' token is used\n",
        "\n",
        "    stop_condition = False\n",
        "    decoded_sentence = ''\n",
        "    while not stop_condition:\n",
        "        output_tokens, h, c = decoder_model.predict([target_seq] + states_value)\n",
        "        sampled_token_index = np.argmax(output_tokens[0, -1, :])\n",
        "        sampled_word = tgt_tokenizer.index_word[sampled_token_index]\n",
        "\n",
        "        if sampled_word == '<end>' or len(decoded_sentence.split()) > tgt_max_length:\n",
        "            stop_condition = True\n",
        "        else:\n",
        "            decoded_sentence += ' ' + sampled_word\n",
        "\n",
        "        target_seq = np.zeros((1, 1))\n",
        "        target_seq[0, 0] = sampled_token_index\n",
        "        states_value = [h, c]\n",
        "\n",
        "    return decoded_sentence.strip()\n",
        "\n",
        "# Test the model\n",
        "input_sentence = \"Hello, how are you?\"\n",
        "translated_sentence = translate_sentence(input_sentence)\n",
        "print(\"Translated sentence:\", translated_sentence)"
      ],
      "metadata": {
        "colab": {
          "base_uri": "https://localhost:8080/",
          "height": 211
        },
        "id": "0kG9R5YKcZM8",
        "outputId": "f3baa1e4-7c4f-4b19-9a94-d2dc0c6d56fd"
      },
      "execution_count": null,
      "outputs": [
        {
          "output_type": "error",
          "ename": "TypeError",
          "evalue": "'KerasTensor' object is not callable",
          "traceback": [
            "\u001b[0;31m---------------------------------------------------------------------------\u001b[0m",
            "\u001b[0;31mTypeError\u001b[0m                                 Traceback (most recent call last)",
            "\u001b[0;32m<ipython-input-13-f13bb9cb22d1>\u001b[0m in \u001b[0;36m<cell line: 7>\u001b[0;34m()\u001b[0m\n\u001b[1;32m      5\u001b[0m \u001b[0mdecoder_state_input_c\u001b[0m \u001b[0;34m=\u001b[0m \u001b[0mInput\u001b[0m\u001b[0;34m(\u001b[0m\u001b[0mshape\u001b[0m\u001b[0;34m=\u001b[0m\u001b[0;34m(\u001b[0m\u001b[0mlatent_dim\u001b[0m\u001b[0;34m,\u001b[0m\u001b[0;34m)\u001b[0m\u001b[0;34m)\u001b[0m\u001b[0;34m\u001b[0m\u001b[0;34m\u001b[0m\u001b[0m\n\u001b[1;32m      6\u001b[0m \u001b[0mdecoder_states_inputs\u001b[0m \u001b[0;34m=\u001b[0m \u001b[0;34m[\u001b[0m\u001b[0mdecoder_state_input_h\u001b[0m\u001b[0;34m,\u001b[0m \u001b[0mdecoder_state_input_c\u001b[0m\u001b[0;34m]\u001b[0m\u001b[0;34m\u001b[0m\u001b[0;34m\u001b[0m\u001b[0m\n\u001b[0;32m----> 7\u001b[0;31m \u001b[0mdecoder_embedding_inf\u001b[0m \u001b[0;34m=\u001b[0m \u001b[0mdecoder_embedding\u001b[0m\u001b[0;34m(\u001b[0m\u001b[0mdecoder_inputs\u001b[0m\u001b[0;34m)\u001b[0m\u001b[0;34m\u001b[0m\u001b[0;34m\u001b[0m\u001b[0m\n\u001b[0m\u001b[1;32m      8\u001b[0m \u001b[0;34m\u001b[0m\u001b[0m\n\u001b[1;32m      9\u001b[0m decoder_outputs_inf, state_h_inf, state_c_inf = decoder_lstm(\n",
            "\u001b[0;31mTypeError\u001b[0m: 'KerasTensor' object is not callable"
          ]
        }
      ]
    }
  ],
  "metadata": {
    "colab": {
      "provenance": [],
      "authorship_tag": "ABX9TyMETmKPU44jNCIKzX1bo87r",
      "include_colab_link": true
    },
    "kernelspec": {
      "display_name": "Python 3",
      "name": "python3"
    },
    "language_info": {
      "name": "python"
    }
  },
  "nbformat": 4,
  "nbformat_minor": 0
}